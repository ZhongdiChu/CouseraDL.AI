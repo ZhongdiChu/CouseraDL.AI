{
  "nbformat": 4,
  "nbformat_minor": 0,
  "metadata": {
    "colab": {
      "name": "DeepLearning.AI_W2.ipynb",
      "provenance": [],
      "authorship_tag": "ABX9TyP6mgV4gdfMreIa9G9nsl44",
      "include_colab_link": true
    },
    "kernelspec": {
      "name": "python3",
      "display_name": "Python 3"
    }
  },
  "cells": [
    {
      "cell_type": "markdown",
      "metadata": {
        "id": "view-in-github",
        "colab_type": "text"
      },
      "source": [
        "<a href=\"https://colab.research.google.com/github/ZhongdiChu/CouseraDL.AI/blob/main/DeepLearning_AI_W2.ipynb\" target=\"_parent\"><img src=\"https://colab.research.google.com/assets/colab-badge.svg\" alt=\"Open In Colab\"/></a>"
      ]
    },
    {
      "cell_type": "code",
      "metadata": {
        "colab": {
          "base_uri": "https://localhost:8080/"
        },
        "id": "qL5nDv2t0OGz",
        "outputId": "ff26c5fe-d437-4527-efe9-de14321721ff"
      },
      "source": [
        "## Vectorization\r\n",
        "\r\n",
        "import numpy as np\r\n",
        "a = np.array([1, 2, 3, 4])\r\n",
        "print(a)"
      ],
      "execution_count": null,
      "outputs": [
        {
          "output_type": "stream",
          "text": [
            "[1 2 3 4]\n"
          ],
          "name": "stdout"
        }
      ]
    },
    {
      "cell_type": "code",
      "metadata": {
        "colab": {
          "base_uri": "https://localhost:8080/"
        },
        "id": "ikXuy7TQ0iQf",
        "outputId": "5fb7648c-48a8-49c9-a5b5-767fe3c7bf0a"
      },
      "source": [
        "import time\r\n",
        "a = np.random.rand(100000)\r\n",
        "b = np.random.rand(100000)\r\n",
        "\r\n",
        "tic = time.time()\r\n",
        "\r\n",
        "c = np.dot(a,b)\r\n",
        "toc = time.time()\r\n",
        "\r\n",
        "print(c)\r\n",
        "print(\"Vectorized version: \" + str(1000*(toc-tic)) + \"ms\")\r\n",
        "\r\n",
        "c = 0\r\n",
        "tic = time.time()\r\n",
        "for i in range(100000):\r\n",
        "  c += a[i]*b[i]\r\n",
        "toc = time.time()\r\n",
        "\r\n",
        "print(\"For Loop version: \" + str(1000*(toc-tic)) + \"ms\")\r\n",
        "print(c)"
      ],
      "execution_count": null,
      "outputs": [
        {
          "output_type": "stream",
          "text": [
            "25005.284185738587\n",
            "Vectorized version: 4.176616668701172ms\n",
            "For Loop version: 98.11520576477051ms\n",
            "25005.28418573869\n"
          ],
          "name": "stdout"
        }
      ]
    },
    {
      "cell_type": "code",
      "metadata": {
        "id": "eCIF0m0p1H0s"
      },
      "source": [
        ""
      ],
      "execution_count": null,
      "outputs": []
    }
  ]
}